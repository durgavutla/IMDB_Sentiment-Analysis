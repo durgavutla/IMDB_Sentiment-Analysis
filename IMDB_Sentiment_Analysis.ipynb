{
  "nbformat": 4,
  "nbformat_minor": 0,
  "metadata": {
    "colab": {
      "name": "IMDB_Sentiment Analysis.ipynb",
      "provenance": [],
      "collapsed_sections": []
    },
    "kernelspec": {
      "name": "python3",
      "display_name": "Python 3"
    },
    "language_info": {
      "name": "python"
    }
  },
  "cells": [
    {
      "cell_type": "markdown",
      "metadata": {
        "id": "X5G24EDY7tsM"
      },
      "source": [
        "Importing the Libraries"
      ]
    },
    {
      "cell_type": "code",
      "metadata": {
        "id": "InWWkvHC76Dy"
      },
      "source": [
        "import pandas as pd\n",
        "import numpy as np\n",
        "import matplotlib.pyplot as plt\n",
        "import os\n",
        "from glob import glob\n",
        "from sklearn.model_selection import train_test_split\n",
        "import tensorflow as tf\n",
        "import tensorflow_hub as hub\n",
        "import tensorflow_datasets as tfds"
      ],
      "execution_count": null,
      "outputs": []
    },
    {
      "cell_type": "markdown",
      "metadata": {
        "id": "gOA5GOpq40Fh"
      },
      "source": [
        "Loading Dataset"
      ]
    },
    {
      "cell_type": "code",
      "metadata": {
        "id": "FzjtPFs49Fem"
      },
      "source": [
        "df = pd.read_csv(\"/content/IMDB Dataset.csv\")"
      ],
      "execution_count": null,
      "outputs": []
    },
    {
      "cell_type": "markdown",
      "metadata": {
        "id": "bcG1zCMK41y4"
      },
      "source": [
        "Statistics Analysis"
      ]
    },
    {
      "cell_type": "code",
      "metadata": {
        "colab": {
          "base_uri": "https://localhost:8080/",
          "height": 204
        },
        "id": "X5NgNUS2-bmJ",
        "outputId": "a162b7b0-f493-45b5-b3b7-3a4d14cd5ee8"
      },
      "source": [
        "df.head(5)"
      ],
      "execution_count": null,
      "outputs": [
        {
          "output_type": "execute_result",
          "data": {
            "text/html": [
              "<div>\n",
              "<style scoped>\n",
              "    .dataframe tbody tr th:only-of-type {\n",
              "        vertical-align: middle;\n",
              "    }\n",
              "\n",
              "    .dataframe tbody tr th {\n",
              "        vertical-align: top;\n",
              "    }\n",
              "\n",
              "    .dataframe thead th {\n",
              "        text-align: right;\n",
              "    }\n",
              "</style>\n",
              "<table border=\"1\" class=\"dataframe\">\n",
              "  <thead>\n",
              "    <tr style=\"text-align: right;\">\n",
              "      <th></th>\n",
              "      <th>review</th>\n",
              "      <th>sentiment</th>\n",
              "    </tr>\n",
              "  </thead>\n",
              "  <tbody>\n",
              "    <tr>\n",
              "      <th>0</th>\n",
              "      <td>One of the other reviewers has mentioned that ...</td>\n",
              "      <td>positive</td>\n",
              "    </tr>\n",
              "    <tr>\n",
              "      <th>1</th>\n",
              "      <td>A wonderful little production. &lt;br /&gt;&lt;br /&gt;The...</td>\n",
              "      <td>positive</td>\n",
              "    </tr>\n",
              "    <tr>\n",
              "      <th>2</th>\n",
              "      <td>I thought this was a wonderful way to spend ti...</td>\n",
              "      <td>positive</td>\n",
              "    </tr>\n",
              "    <tr>\n",
              "      <th>3</th>\n",
              "      <td>Basically there's a family where a little boy ...</td>\n",
              "      <td>negative</td>\n",
              "    </tr>\n",
              "    <tr>\n",
              "      <th>4</th>\n",
              "      <td>Petter Mattei's \"Love in the Time of Money\" is...</td>\n",
              "      <td>positive</td>\n",
              "    </tr>\n",
              "  </tbody>\n",
              "</table>\n",
              "</div>"
            ],
            "text/plain": [
              "                                              review sentiment\n",
              "0  One of the other reviewers has mentioned that ...  positive\n",
              "1  A wonderful little production. <br /><br />The...  positive\n",
              "2  I thought this was a wonderful way to spend ti...  positive\n",
              "3  Basically there's a family where a little boy ...  negative\n",
              "4  Petter Mattei's \"Love in the Time of Money\" is...  positive"
            ]
          },
          "metadata": {
            "tags": []
          },
          "execution_count": 21
        }
      ]
    },
    {
      "cell_type": "code",
      "metadata": {
        "colab": {
          "base_uri": "https://localhost:8080/",
          "height": 204
        },
        "id": "GRfnzqX6-o2W",
        "outputId": "a757e401-e72a-4d18-bfc0-20e9a7cb9665"
      },
      "source": [
        "df.tail(5)"
      ],
      "execution_count": null,
      "outputs": [
        {
          "output_type": "execute_result",
          "data": {
            "text/html": [
              "<div>\n",
              "<style scoped>\n",
              "    .dataframe tbody tr th:only-of-type {\n",
              "        vertical-align: middle;\n",
              "    }\n",
              "\n",
              "    .dataframe tbody tr th {\n",
              "        vertical-align: top;\n",
              "    }\n",
              "\n",
              "    .dataframe thead th {\n",
              "        text-align: right;\n",
              "    }\n",
              "</style>\n",
              "<table border=\"1\" class=\"dataframe\">\n",
              "  <thead>\n",
              "    <tr style=\"text-align: right;\">\n",
              "      <th></th>\n",
              "      <th>review</th>\n",
              "      <th>sentiment</th>\n",
              "    </tr>\n",
              "  </thead>\n",
              "  <tbody>\n",
              "    <tr>\n",
              "      <th>49995</th>\n",
              "      <td>I thought this movie did a down right good job...</td>\n",
              "      <td>positive</td>\n",
              "    </tr>\n",
              "    <tr>\n",
              "      <th>49996</th>\n",
              "      <td>Bad plot, bad dialogue, bad acting, idiotic di...</td>\n",
              "      <td>negative</td>\n",
              "    </tr>\n",
              "    <tr>\n",
              "      <th>49997</th>\n",
              "      <td>I am a Catholic taught in parochial elementary...</td>\n",
              "      <td>negative</td>\n",
              "    </tr>\n",
              "    <tr>\n",
              "      <th>49998</th>\n",
              "      <td>I'm going to have to disagree with the previou...</td>\n",
              "      <td>negative</td>\n",
              "    </tr>\n",
              "    <tr>\n",
              "      <th>49999</th>\n",
              "      <td>No one expects the Star Trek movies to be high...</td>\n",
              "      <td>negative</td>\n",
              "    </tr>\n",
              "  </tbody>\n",
              "</table>\n",
              "</div>"
            ],
            "text/plain": [
              "                                                  review sentiment\n",
              "49995  I thought this movie did a down right good job...  positive\n",
              "49996  Bad plot, bad dialogue, bad acting, idiotic di...  negative\n",
              "49997  I am a Catholic taught in parochial elementary...  negative\n",
              "49998  I'm going to have to disagree with the previou...  negative\n",
              "49999  No one expects the Star Trek movies to be high...  negative"
            ]
          },
          "metadata": {
            "tags": []
          },
          "execution_count": 22
        }
      ]
    },
    {
      "cell_type": "code",
      "metadata": {
        "colab": {
          "base_uri": "https://localhost:8080/",
          "height": 173
        },
        "id": "BqykjoQC-qP_",
        "outputId": "08ffd49b-18d6-4cce-ab07-4b10ccaa9970"
      },
      "source": [
        "df.describe()"
      ],
      "execution_count": null,
      "outputs": [
        {
          "output_type": "execute_result",
          "data": {
            "text/html": [
              "<div>\n",
              "<style scoped>\n",
              "    .dataframe tbody tr th:only-of-type {\n",
              "        vertical-align: middle;\n",
              "    }\n",
              "\n",
              "    .dataframe tbody tr th {\n",
              "        vertical-align: top;\n",
              "    }\n",
              "\n",
              "    .dataframe thead th {\n",
              "        text-align: right;\n",
              "    }\n",
              "</style>\n",
              "<table border=\"1\" class=\"dataframe\">\n",
              "  <thead>\n",
              "    <tr style=\"text-align: right;\">\n",
              "      <th></th>\n",
              "      <th>review</th>\n",
              "      <th>sentiment</th>\n",
              "    </tr>\n",
              "  </thead>\n",
              "  <tbody>\n",
              "    <tr>\n",
              "      <th>count</th>\n",
              "      <td>50000</td>\n",
              "      <td>50000</td>\n",
              "    </tr>\n",
              "    <tr>\n",
              "      <th>unique</th>\n",
              "      <td>49582</td>\n",
              "      <td>2</td>\n",
              "    </tr>\n",
              "    <tr>\n",
              "      <th>top</th>\n",
              "      <td>Loved today's show!!! It was a variety and not...</td>\n",
              "      <td>negative</td>\n",
              "    </tr>\n",
              "    <tr>\n",
              "      <th>freq</th>\n",
              "      <td>5</td>\n",
              "      <td>25000</td>\n",
              "    </tr>\n",
              "  </tbody>\n",
              "</table>\n",
              "</div>"
            ],
            "text/plain": [
              "                                                   review sentiment\n",
              "count                                               50000     50000\n",
              "unique                                              49582         2\n",
              "top     Loved today's show!!! It was a variety and not...  negative\n",
              "freq                                                    5     25000"
            ]
          },
          "metadata": {
            "tags": []
          },
          "execution_count": 23
        }
      ]
    },
    {
      "cell_type": "code",
      "metadata": {
        "colab": {
          "base_uri": "https://localhost:8080/"
        },
        "id": "nrGlDcaO-rxl",
        "outputId": "d130bdf1-38b3-4084-b7f7-5649caa9167d"
      },
      "source": [
        "df.info()"
      ],
      "execution_count": null,
      "outputs": [
        {
          "output_type": "stream",
          "text": [
            "<class 'pandas.core.frame.DataFrame'>\n",
            "RangeIndex: 50000 entries, 0 to 49999\n",
            "Data columns (total 2 columns):\n",
            " #   Column     Non-Null Count  Dtype \n",
            "---  ------     --------------  ----- \n",
            " 0   review     50000 non-null  object\n",
            " 1   sentiment  50000 non-null  object\n",
            "dtypes: object(2)\n",
            "memory usage: 781.4+ KB\n"
          ],
          "name": "stdout"
        }
      ]
    },
    {
      "cell_type": "markdown",
      "metadata": {
        "id": "89-rfD2s3Nrz"
      },
      "source": [
        "# Splitting the dataset into train and test"
      ]
    },
    {
      "cell_type": "code",
      "metadata": {
        "id": "Ukp1g6nA3NWB"
      },
      "source": [
        "train_data, validation_data, test_data = tfds.load(\n",
        "    name=\"imdb_reviews\", \n",
        "    split=('train[:75%]', 'train[75%:]', 'test'),\n",
        "    as_supervised=True)"
      ],
      "execution_count": null,
      "outputs": []
    },
    {
      "cell_type": "code",
      "metadata": {
        "colab": {
          "base_uri": "https://localhost:8080/"
        },
        "id": "ycoiNCNL315b",
        "outputId": "4b8fb4c5-cefe-4a05-eab1-1dcfe0819976"
      },
      "source": [
        "print(\"Training Data: {}\".format(len(train_data)))\n",
        "print(\"Validation Data: {}\".format(len(validation_data)))\n",
        "print(\"Test Data: {}\".format(len(test_data)))"
      ],
      "execution_count": null,
      "outputs": [
        {
          "output_type": "stream",
          "text": [
            "Training Data: 18750\n",
            "Validation Data: 6250\n",
            "Test Data: 25000\n"
          ],
          "name": "stdout"
        }
      ]
    },
    {
      "cell_type": "markdown",
      "metadata": {
        "id": "1Lb3OH425CWk"
      },
      "source": [
        "To Check Batch of Labels \n",
        "\n",
        "We can see two possible labels, 0 and 1.0\n",
        "\n",
        "0 - Negative Reviews and 1 - Positive Reviews "
      ]
    },
    {
      "cell_type": "code",
      "metadata": {
        "colab": {
          "base_uri": "https://localhost:8080/"
        },
        "id": "rNIY8vSM4xG0",
        "outputId": "c833bf39-b0d6-431f-8117-3bb5cb6c9002"
      },
      "source": [
        "train_example_batch, train_labels_batch = next(iter(train_data.batch(5)))\n",
        "print(train_example_batch, \"\\n\\n\", train_labels_batch)"
      ],
      "execution_count": null,
      "outputs": [
        {
          "output_type": "stream",
          "text": [
            "tf.Tensor(\n",
            "[b\"This was an absolutely terrible movie. Don't be lured in by Christopher Walken or Michael Ironside. Both are great actors, but this must simply be their worst role in history. Even their great acting could not redeem this movie's ridiculous storyline. This movie is an early nineties US propaganda piece. The most pathetic scenes were those when the Columbian rebels were making their cases for revolutions. Maria Conchita Alonso appeared phony, and her pseudo-love affair with Walken was nothing but a pathetic emotional plug in a movie that was devoid of any real meaning. I am disappointed that there are movies like this, ruining actor's like Christopher Walken's good name. I could barely sit through it.\"\n",
            " b'I have been known to fall asleep during films, but this is usually due to a combination of things including, really tired, being warm and comfortable on the sette and having just eaten a lot. However on this occasion I fell asleep because the film was rubbish. The plot development was constant. Constantly slow and boring. Things seemed to happen, but with no explanation of what was causing them or why. I admit, I may have missed part of the film, but i watched the majority of it and everything just seemed to happen of its own accord without any real concern for anything else. I cant recommend this film at all.'\n",
            " b'Mann photographs the Alberta Rocky Mountains in a superb fashion, and Jimmy Stewart and Walter Brennan give enjoyable performances as they always seem to do. <br /><br />But come on Hollywood - a Mountie telling the people of Dawson City, Yukon to elect themselves a marshal (yes a marshal!) and to enforce the law themselves, then gunfighters battling it out on the streets for control of the town? <br /><br />Nothing even remotely resembling that happened on the Canadian side of the border during the Klondike gold rush. Mr. Mann and company appear to have mistaken Dawson City for Deadwood, the Canadian North for the American Wild West.<br /><br />Canadian viewers be prepared for a Reefer Madness type of enjoyable howl with this ludicrous plot, or, to shake your head in disgust.'\n",
            " b'This is the kind of film for a snowy Sunday afternoon when the rest of the world can go ahead with its own business as you descend into a big arm-chair and mellow for a couple of hours. Wonderful performances from Cher and Nicolas Cage (as always) gently row the plot along. There are no rapids to cross, no dangerous waters, just a warm and witty paddle through New York life at its best. A family film in every sense and one that deserves the praise it received.'\n",
            " b'As others have mentioned, all the women that go nude in this film are mostly absolutely gorgeous. The plot very ably shows the hypocrisy of the female libido. When men are around they want to be pursued, but when no \"men\" are around, they become the pursuers of a 14 year old boy. And the boy becomes a man really fast (we should all be so lucky at this age!). He then gets up the courage to pursue his true love.'], shape=(5,), dtype=string) \n",
            "\n",
            " tf.Tensor([0 0 0 1 1], shape=(5,), dtype=int64)\n"
          ],
          "name": "stdout"
        }
      ]
    },
    {
      "cell_type": "markdown",
      "metadata": {
        "id": "Kulpub5uENeS"
      },
      "source": [
        "We are using Pre-trained Embedding Layer from TensorFlow Hub"
      ]
    },
    {
      "cell_type": "markdown",
      "metadata": {
        "id": "zHKj2jZrEWMa"
      },
      "source": [
        "Downloading and Defining the Embedding Layers from TFHub"
      ]
    },
    {
      "cell_type": "code",
      "metadata": {
        "id": "LTM9pnxED2-C"
      },
      "source": [
        "embedding = \"https://tfhub.dev/google/nnlm-en-dim50/2\"\n",
        "hub_layer = hub.KerasLayer(embedding, input_shape=[], #input shape is a list\n",
        "                           dtype=tf.string, trainable=True)"
      ],
      "execution_count": 31,
      "outputs": []
    },
    {
      "cell_type": "markdown",
      "metadata": {
        "id": "u4BscL6WNtvZ"
      },
      "source": [
        "Prints the output when passing three examples through the layer"
      ]
    },
    {
      "cell_type": "code",
      "metadata": {
        "colab": {
          "base_uri": "https://localhost:8080/"
        },
        "id": "IQFOVv40NIni",
        "outputId": "72a8f0b8-9183-45cd-8b7d-162e65509ac3"
      },
      "source": [
        "hub_layer(train_example_batch[3:])"
      ],
      "execution_count": 32,
      "outputs": [
        {
          "output_type": "execute_result",
          "data": {
            "text/plain": [
              "<tf.Tensor: shape=(2, 50), dtype=float32, numpy=\n",
              "array([[ 4.70498234e-01,  5.04806712e-02,  2.35127181e-01,\n",
              "         4.32975799e-01, -9.32876244e-02, -1.38524815e-01,\n",
              "         5.53822902e-04, -9.48968381e-02, -3.88939619e-01,\n",
              "         3.01228583e-01,  1.04856193e-01,  9.48758423e-02,\n",
              "        -4.81238328e-02,  3.37131359e-02,  1.76941991e-01,\n",
              "        -5.16853631e-01, -1.71630889e-01,  2.69593392e-02,\n",
              "        -7.99699873e-02, -4.96775538e-01,  7.68390298e-02,\n",
              "        -4.07506138e-01,  1.05867445e-01,  4.93401259e-01,\n",
              "        -4.78378199e-02,  4.29327220e-01, -7.04555035e-01,\n",
              "        -7.12106079e-02,  1.44147530e-01, -3.55651975e-01,\n",
              "        -1.49616271e-01, -4.13918197e-02, -2.51194723e-02,\n",
              "        -1.88087270e-01, -2.37523809e-01,  1.32853195e-01,\n",
              "         1.41783431e-01,  3.13279063e-01,  1.49204180e-01,\n",
              "        -7.55418539e-01, -9.40273777e-02, -1.78432092e-01,\n",
              "        -2.09861219e-01,  7.48737007e-02, -6.61607608e-02,\n",
              "        -3.99357304e-02, -1.40112877e-01,  2.31311023e-02,\n",
              "         3.95088457e-02,  5.96483350e-02],\n",
              "       [ 5.33271551e-01,  4.10754561e-01, -2.56025791e-03,\n",
              "         1.66805565e-01,  3.42842847e-01, -2.11083248e-01,\n",
              "         7.39178509e-02, -1.89540852e-02, -4.23745155e-01,\n",
              "         3.26222509e-01, -2.71500777e-02,  5.49408346e-02,\n",
              "         5.38478233e-02,  2.25131914e-01, -2.67275929e-01,\n",
              "        -3.03575635e-01, -2.99523234e-01, -1.25522405e-01,\n",
              "        -1.27918916e-02, -6.09255791e-01,  6.91965893e-02,\n",
              "        -1.88294038e-01,  2.96051592e-01,  1.87656283e-03,\n",
              "        -2.42816001e-01,  5.03987610e-01, -8.93594027e-01,\n",
              "        -3.70096527e-02,  3.75274777e-01, -1.90621212e-01,\n",
              "        -4.93565291e-01,  3.72953981e-01,  3.52563351e-01,\n",
              "        -3.98696721e-01, -2.69779861e-01, -5.26192039e-02,\n",
              "         7.14195743e-02, -1.38850197e-01,  2.49561965e-01,\n",
              "        -5.87767899e-01,  9.01176780e-02, -8.46204683e-02,\n",
              "        -3.61696839e-01,  2.90184140e-01, -2.55241524e-02,\n",
              "        -2.61433840e-01, -2.03029424e-01, -2.65848666e-01,\n",
              "        -1.03000253e-01, -1.59264937e-01]], dtype=float32)>"
            ]
          },
          "metadata": {
            "tags": []
          },
          "execution_count": 32
        }
      ]
    },
    {
      "cell_type": "markdown",
      "metadata": {
        "id": "jbm2KUtlN5ve"
      },
      "source": [
        "We defining the Model Structure\n",
        "\n",
        "The first layer is the embedding layer, followed by a dense/linear layer with 16 hidden nodes, and then a final dense layer with 1 node.\n",
        "\n",
        "The beauty of Keras is that is requires very little code to create powerful Neural Networks."
      ]
    },
    {
      "cell_type": "code",
      "metadata": {
        "id": "zSas5AOYNkWT"
      },
      "source": [
        "model = tf.keras.Sequential()\n",
        "model.add(hub_layer)\n",
        "model.add(tf.keras.layers.Dense(16, activation='relu')) #note relu maps all the negative values to zero\n",
        "model.add(tf.keras.layers.Dense(1, activation='sigmoid')) #sigmoid maps values between 0 - 1"
      ],
      "execution_count": 33,
      "outputs": []
    },
    {
      "cell_type": "code",
      "metadata": {
        "colab": {
          "base_uri": "https://localhost:8080/"
        },
        "id": "yiushUPcOjcF",
        "outputId": "e0039dd1-c96f-4e76-9bde-eb474699dc99"
      },
      "source": [
        "model.summary()"
      ],
      "execution_count": 34,
      "outputs": [
        {
          "output_type": "stream",
          "text": [
            "Model: \"sequential\"\n",
            "_________________________________________________________________\n",
            "Layer (type)                 Output Shape              Param #   \n",
            "=================================================================\n",
            "keras_layer (KerasLayer)     (None, 50)                48190600  \n",
            "_________________________________________________________________\n",
            "dense (Dense)                (None, 16)                816       \n",
            "_________________________________________________________________\n",
            "dense_1 (Dense)              (None, 1)                 17        \n",
            "=================================================================\n",
            "Total params: 48,191,433\n",
            "Trainable params: 48,191,433\n",
            "Non-trainable params: 0\n",
            "_________________________________________________________________\n"
          ],
          "name": "stdout"
        }
      ]
    },
    {
      "cell_type": "markdown",
      "metadata": {
        "id": "NN4tOYtQOpQ9"
      },
      "source": [
        "Finally we compile and train the model\n",
        "\n",
        "We are using ADAM optimizer, binary crossentropy loss function (as we are predicting labels either 0 or 1), and evaluting the model performance based on its accuracy on the labels."
      ]
    },
    {
      "cell_type": "code",
      "metadata": {
        "id": "wJ4XQezHOlOT"
      },
      "source": [
        "model.compile(optimizer='adam', loss=tf.keras.losses.BinaryCrossentropy(from_logits=True), metrics=['accuracy'])"
      ],
      "execution_count": 35,
      "outputs": []
    },
    {
      "cell_type": "code",
      "metadata": {
        "colab": {
          "base_uri": "https://localhost:8080/"
        },
        "id": "_z9MHTLaPIWz",
        "outputId": "6f2ba333-7629-42b9-991c-3fe7d609057f"
      },
      "source": [
        "history = model.fit(train_data.shuffle(10000).batch(512), epochs=10,\n",
        "                    validation_data=validation_data.batch(512), verbose=1)"
      ],
      "execution_count": 36,
      "outputs": [
        {
          "output_type": "stream",
          "text": [
            "Epoch 1/10\n"
          ],
          "name": "stdout"
        },
        {
          "output_type": "stream",
          "text": [
            "/usr/local/lib/python3.7/dist-packages/tensorflow/python/keras/backend.py:5017: UserWarning: \"`binary_crossentropy` received `from_logits=True`, but the `output` argument was produced by a sigmoid or softmax activation and thus does not represent logits. Was this intended?\"\n",
            "  '\"`binary_crossentropy` received `from_logits=True`, but the `output`'\n"
          ],
          "name": "stderr"
        },
        {
          "output_type": "stream",
          "text": [
            "37/37 [==============================] - 21s 530ms/step - loss: 0.6410 - accuracy: 0.6554 - val_loss: 0.5758 - val_accuracy: 0.7506\n",
            "Epoch 2/10\n",
            "37/37 [==============================] - 20s 522ms/step - loss: 0.4847 - accuracy: 0.8105 - val_loss: 0.4344 - val_accuracy: 0.8222\n",
            "Epoch 3/10\n",
            "37/37 [==============================] - 20s 522ms/step - loss: 0.3362 - accuracy: 0.8810 - val_loss: 0.3514 - val_accuracy: 0.8579\n",
            "Epoch 4/10\n",
            "37/37 [==============================] - 20s 521ms/step - loss: 0.2382 - accuracy: 0.9205 - val_loss: 0.3151 - val_accuracy: 0.8688\n",
            "Epoch 5/10\n",
            "37/37 [==============================] - 20s 522ms/step - loss: 0.1715 - accuracy: 0.9480 - val_loss: 0.3012 - val_accuracy: 0.8770\n",
            "Epoch 6/10\n",
            "37/37 [==============================] - 20s 523ms/step - loss: 0.1237 - accuracy: 0.9664 - val_loss: 0.3031 - val_accuracy: 0.8766\n",
            "Epoch 7/10\n",
            "37/37 [==============================] - 20s 526ms/step - loss: 0.0892 - accuracy: 0.9803 - val_loss: 0.3110 - val_accuracy: 0.8750\n",
            "Epoch 8/10\n",
            "37/37 [==============================] - 20s 525ms/step - loss: 0.0637 - accuracy: 0.9879 - val_loss: 0.3184 - val_accuracy: 0.8746\n",
            "Epoch 9/10\n",
            "37/37 [==============================] - 20s 525ms/step - loss: 0.0458 - accuracy: 0.9938 - val_loss: 0.3328 - val_accuracy: 0.8744\n",
            "Epoch 10/10\n",
            "37/37 [==============================] - 20s 525ms/step - loss: 0.0322 - accuracy: 0.9970 - val_loss: 0.3496 - val_accuracy: 0.8734\n"
          ],
          "name": "stdout"
        }
      ]
    },
    {
      "cell_type": "markdown",
      "metadata": {
        "id": "w82dn8jKPo83"
      },
      "source": [
        "I had to look into the tf.data.Dataset documentation to understand what was going on when we batched a tf dataset, as I thought that it was only evaluating 512 test_data examples and not all the test data."
      ]
    },
    {
      "cell_type": "code",
      "metadata": {
        "colab": {
          "base_uri": "https://localhost:8080/"
        },
        "id": "W4LIdPBHPcev",
        "outputId": "13e41c39-dd10-4660-de90-5c2c3cda890d"
      },
      "source": [
        "dataset = tf.data.Dataset.range(8)\n",
        "dataset = dataset.batch(3) #or with batch shuffle ---dataset = dataset.shuffle(3).batch(3)\n",
        "list(dataset.as_numpy_iterator())"
      ],
      "execution_count": 37,
      "outputs": [
        {
          "output_type": "execute_result",
          "data": {
            "text/plain": [
              "[array([0, 1, 2]), array([3, 4, 5]), array([6, 7])]"
            ]
          },
          "metadata": {
            "tags": []
          },
          "execution_count": 37
        }
      ]
    },
    {
      "cell_type": "markdown",
      "metadata": {
        "id": "BmrulwVVdnon"
      },
      "source": [
        "Evaluating Model Performance on the Test Dataset"
      ]
    },
    {
      "cell_type": "code",
      "metadata": {
        "colab": {
          "base_uri": "https://localhost:8080/"
        },
        "id": "xfUvfHHfdmNb",
        "outputId": "9a901200-6ff9-4ab8-afed-8f422f2817e3"
      },
      "source": [
        "results = model.evaluate(test_data.batch(64), verbose=1)\n",
        "\n",
        "for name, value in zip(model.metrics_names, results):\n",
        "  print(\"%s: %3f\" % (name, value))"
      ],
      "execution_count": 38,
      "outputs": [
        {
          "output_type": "stream",
          "text": [
            "391/391 [==============================] - 3s 7ms/step - loss: 0.3753 - accuracy: 0.8604\n",
            "loss: 0.375324\n",
            "accuracy: 0.860400\n"
          ],
          "name": "stdout"
        }
      ]
    },
    {
      "cell_type": "markdown",
      "metadata": {
        "id": "6jrMge77eUOB"
      },
      "source": [
        "# We can see that the model performed pretty well on the test_data and scores ~85%. Thats pretty good! Hopefully with some improvements in the model structure, and the embedding layer we can make a model that scores >90%!\n",
        "\n",
        "# ---\n",
        "\n"
      ]
    },
    {
      "cell_type": "markdown",
      "metadata": {
        "id": "5qAUot7uennL"
      },
      "source": [
        "Finally, we have a trained model and can pass unseen data into the model to make predictions. As the final layer of the model uses a sigmoid activation function the output will be mapped between 0-1.\n",
        "\n",
        "The output of the model is a prediction on the likelihood that the text is a positive review."
      ]
    },
    {
      "cell_type": "code",
      "metadata": {
        "id": "hYoyvZRleKlB"
      },
      "source": [
        "examples = [\n",
        "            'this is such an amaxing movie!', #this is same sentence tried earlier\n",
        "            'The movie was great',\n",
        "            'The movie was decent',\n",
        "            'The movie was okies',\n",
        "            'The movie was so awful and terrible....'\n",
        "]"
      ],
      "execution_count": 39,
      "outputs": []
    },
    {
      "cell_type": "code",
      "metadata": {
        "colab": {
          "base_uri": "https://localhost:8080/"
        },
        "id": "Nm5AaV5tfIyE",
        "outputId": "b05c5a0c-e239-4e42-fd68-b1b1f7eacaf2"
      },
      "source": [
        "#tf.sigmoid maps values between 0 - 1\n",
        "#tf.constant creates a tensor from a tensor-like object\n",
        "\n",
        "original_results = model(tf.constant(examples))\n",
        "\n",
        "for (x, y) in zip(original_results, examples):\n",
        "  print(\"Input: {} --- {:.2f}\".format(y, *[0]))\n"
      ],
      "execution_count": 41,
      "outputs": [
        {
          "output_type": "stream",
          "text": [
            "Input: this is such an amaxing movie! --- 0.00\n",
            "Input: The movie was great --- 0.00\n",
            "Input: The movie was decent --- 0.00\n",
            "Input: The movie was okies --- 0.00\n",
            "Input: The movie was so awful and terrible.... --- 0.00\n"
          ],
          "name": "stdout"
        }
      ]
    },
    {
      "cell_type": "markdown",
      "metadata": {
        "id": "FEILmah3gLLy"
      },
      "source": [
        "Saving the model weights so we can use the model in the future"
      ]
    },
    {
      "cell_type": "code",
      "metadata": {
        "id": "h-_h2b-2fzMt"
      },
      "source": [
        "model.save_weights(\"keras_NLP_basic_weights.h5\")"
      ],
      "execution_count": 42,
      "outputs": []
    },
    {
      "cell_type": "markdown",
      "metadata": {
        "id": "SF79SLfMhKcY"
      },
      "source": [
        "Closing Thoughts\n",
        "\n",
        "I would like to experiment with Tensorflow using a lower level API, and not relying on the higher level API in Keras.\n",
        "\n",
        "That being said, Keras is amazing at prototyping and getting started on a wide range of machine learning problems. I think it is beneficial to start with keras to get a sense of the problem you are working with, and then work down from there. I think it would be interesting to mess with other embedding layers, create a custom embedding layer, experiment with different model structures, and training parameters."
      ]
    },
    {
      "cell_type": "code",
      "metadata": {
        "id": "N1LYvFzeg_dr"
      },
      "source": [
        ""
      ],
      "execution_count": null,
      "outputs": []
    }
  ]
}